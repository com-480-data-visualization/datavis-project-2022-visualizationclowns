{
 "cells": [
  {
   "cell_type": "code",
   "execution_count": 2,
   "metadata": {},
   "outputs": [],
   "source": [
    "import json\n",
    "import pandas as pd"
   ]
  },
  {
   "cell_type": "code",
   "execution_count": 4,
   "metadata": {},
   "outputs": [
    {
     "data": {
      "text/html": [
       "<div>\n",
       "<style scoped>\n",
       "    .dataframe tbody tr th:only-of-type {\n",
       "        vertical-align: middle;\n",
       "    }\n",
       "\n",
       "    .dataframe tbody tr th {\n",
       "        vertical-align: top;\n",
       "    }\n",
       "\n",
       "    .dataframe thead th {\n",
       "        text-align: right;\n",
       "    }\n",
       "</style>\n",
       "<table border=\"1\" class=\"dataframe\">\n",
       "  <thead>\n",
       "    <tr style=\"text-align: right;\">\n",
       "      <th></th>\n",
       "      <th>text</th>\n",
       "      <th>created_at</th>\n",
       "      <th>id</th>\n",
       "      <th>public_metrics.retweet_count</th>\n",
       "      <th>public_metrics.reply_count</th>\n",
       "      <th>public_metrics.like_count</th>\n",
       "      <th>public_metrics.quote_count</th>\n",
       "    </tr>\n",
       "  </thead>\n",
       "  <tbody>\n",
       "    <tr>\n",
       "      <th>0</th>\n",
       "      <td>You are my favorite hello,\\nAnd my hardest goo...</td>\n",
       "      <td>2022-03-07T07:49:42.000Z</td>\n",
       "      <td>1500740461115461632</td>\n",
       "      <td>6122</td>\n",
       "      <td>4693</td>\n",
       "      <td>44162</td>\n",
       "      <td>1108</td>\n",
       "    </tr>\n",
       "  </tbody>\n",
       "</table>\n",
       "</div>"
      ],
      "text/plain": [
       "                                                text  \\\n",
       "0  You are my favorite hello,\\nAnd my hardest goo...   \n",
       "\n",
       "                 created_at                   id  \\\n",
       "0  2022-03-07T07:49:42.000Z  1500740461115461632   \n",
       "\n",
       "   public_metrics.retweet_count  public_metrics.reply_count  \\\n",
       "0                          6122                        4693   \n",
       "\n",
       "   public_metrics.like_count  public_metrics.quote_count  \n",
       "0                      44162                        1108  "
      ]
     },
     "execution_count": 4,
     "metadata": {},
     "output_type": "execute_result"
    }
   ],
   "source": [
    "with open('newTweets.json') as json_file:\n",
    "    data = json.load(json_file)\n",
    "data = [d for d in data.values()]\n",
    "new_tweets = pd.json_normalize(data)\n",
    "new_tweets.head(1)"
   ]
  },
  {
   "cell_type": "code",
   "execution_count": 5,
   "metadata": {},
   "outputs": [
    {
     "data": {
      "text/html": [
       "<div>\n",
       "<style scoped>\n",
       "    .dataframe tbody tr th:only-of-type {\n",
       "        vertical-align: middle;\n",
       "    }\n",
       "\n",
       "    .dataframe tbody tr th {\n",
       "        vertical-align: top;\n",
       "    }\n",
       "\n",
       "    .dataframe thead th {\n",
       "        text-align: right;\n",
       "    }\n",
       "</style>\n",
       "<table border=\"1\" class=\"dataframe\">\n",
       "  <thead>\n",
       "    <tr style=\"text-align: right;\">\n",
       "      <th></th>\n",
       "      <th>Unnamed: 0</th>\n",
       "      <th>id</th>\n",
       "      <th>conversation_id</th>\n",
       "      <th>created_at</th>\n",
       "      <th>date</th>\n",
       "      <th>timezone</th>\n",
       "      <th>place</th>\n",
       "      <th>tweet</th>\n",
       "      <th>language</th>\n",
       "      <th>hashtags</th>\n",
       "      <th>...</th>\n",
       "      <th>geo</th>\n",
       "      <th>source</th>\n",
       "      <th>user_rt_id</th>\n",
       "      <th>user_rt</th>\n",
       "      <th>retweet_id</th>\n",
       "      <th>reply_to</th>\n",
       "      <th>retweet_date</th>\n",
       "      <th>translate</th>\n",
       "      <th>trans_src</th>\n",
       "      <th>trans_dest</th>\n",
       "    </tr>\n",
       "  </thead>\n",
       "  <tbody>\n",
       "    <tr>\n",
       "      <th>0</th>\n",
       "      <td>0</td>\n",
       "      <td>1373819373090050048</td>\n",
       "      <td>1373669212271566858</td>\n",
       "      <td>1.616379e+12</td>\n",
       "      <td>2021-03-22 02:10:37</td>\n",
       "      <td>0</td>\n",
       "      <td>NaN</td>\n",
       "      <td>@bluemoondance74 @NASASpaceflight Going well. ...</td>\n",
       "      <td>en</td>\n",
       "      <td>[]</td>\n",
       "      <td>...</td>\n",
       "      <td>NaN</td>\n",
       "      <td>NaN</td>\n",
       "      <td>NaN</td>\n",
       "      <td>NaN</td>\n",
       "      <td>NaN</td>\n",
       "      <td>[{'screen_name': 'bluemoondance74', 'name': 'R...</td>\n",
       "      <td>NaN</td>\n",
       "      <td>NaN</td>\n",
       "      <td>NaN</td>\n",
       "      <td>NaN</td>\n",
       "    </tr>\n",
       "  </tbody>\n",
       "</table>\n",
       "<p>1 rows × 39 columns</p>\n",
       "</div>"
      ],
      "text/plain": [
       "   Unnamed: 0                   id      conversation_id    created_at  \\\n",
       "0           0  1373819373090050048  1373669212271566858  1.616379e+12   \n",
       "\n",
       "                  date  timezone  place  \\\n",
       "0  2021-03-22 02:10:37         0    NaN   \n",
       "\n",
       "                                               tweet language hashtags  ...  \\\n",
       "0  @bluemoondance74 @NASASpaceflight Going well. ...       en       []  ...   \n",
       "\n",
       "  geo  source  user_rt_id user_rt retweet_id  \\\n",
       "0 NaN     NaN         NaN     NaN        NaN   \n",
       "\n",
       "                                            reply_to  retweet_date translate  \\\n",
       "0  [{'screen_name': 'bluemoondance74', 'name': 'R...           NaN       NaN   \n",
       "\n",
       "  trans_src trans_dest  \n",
       "0       NaN        NaN  \n",
       "\n",
       "[1 rows x 39 columns]"
      ]
     },
     "execution_count": 5,
     "metadata": {},
     "output_type": "execute_result"
    }
   ],
   "source": [
    "kaggle_tweets = pd.read_csv(\"2021.csv\")\n",
    "kaggle_tweets.head(1)"
   ]
  },
  {
   "cell_type": "code",
   "execution_count": 6,
   "metadata": {},
   "outputs": [
    {
     "name": "stdout",
     "output_type": "stream",
     "text": [
      "Index(['Unnamed: 0', 'id', 'conversation_id', 'created_at', 'date', 'timezone',\n",
      "       'place', 'tweet', 'language', 'hashtags', 'cashtags', 'user_id',\n",
      "       'user_id_str', 'username', 'name', 'day', 'hour', 'link', 'urls',\n",
      "       'photos', 'video', 'thumbnail', 'retweet', 'nlikes', 'nreplies',\n",
      "       'nretweets', 'quote_url', 'search', 'near', 'geo', 'source',\n",
      "       'user_rt_id', 'user_rt', 'retweet_id', 'reply_to', 'retweet_date',\n",
      "       'translate', 'trans_src', 'trans_dest'],\n",
      "      dtype='object')\n",
      "Index(['text', 'created_at', 'id', 'public_metrics.retweet_count',\n",
      "       'public_metrics.reply_count', 'public_metrics.like_count',\n",
      "       'public_metrics.quote_count'],\n",
      "      dtype='object')\n"
     ]
    }
   ],
   "source": [
    "print(kaggle_tweets.columns, new_tweets.columns, sep=\"\\n\")"
   ]
  },
  {
   "cell_type": "code",
   "execution_count": 8,
   "metadata": {},
   "outputs": [],
   "source": [
    "# Rename and remove columns to get same format\n",
    "kaggle_tweets_map = {}\n",
    "kaggle_tweets_drop = ['Unnamed: 0', 'conversation_id', 'date', 'timezone', 'place', 'language', 'hashtags', 'cashtags', 'user_id', \n",
    "                     'user_id_str', 'username', 'name', 'day', 'hour', 'link', 'urls', \n",
    "                     'photos', 'video', 'thumbnail', 'retweet', \n",
    "                     'quote_url', 'search', 'near', 'geo', 'source', \n",
    "                     'user_rt_id', 'user_rt', 'retweet_id', 'reply_to', 'retweet_date',\n",
    "                     'translate', 'trans_src', 'trans_dest']\n",
    "\n",
    "new_tweets_map = {'text': 'tweet',\n",
    "                  'public_metrics.retweet_count': 'nretweets',\n",
    "                  'public_metrics.reply_count': 'nreplies',\n",
    "                  'public_metrics.like_count': 'nlikes'}\n",
    "new_tweets_drop = ['public_metrics.quote_count']\n",
    "\n",
    "edited_kaggle_tweets = kaggle_tweets.rename(columns=kaggle_tweets_map).drop(columns=kaggle_tweets_drop)\n",
    "edited_new_tweets = new_tweets.rename(columns=new_tweets_map).drop(columns=new_tweets_drop)\n",
    "\n",
    "# Remove the 6 duplicate tweets :\n",
    "# (1373819373090050048, 1373735946244431873, 1373555480870621188, 1373507545315172357, 1373492611231535111, 1373490900807032840)\n",
    "edited_new_tweets = edited_new_tweets[:-6]\n",
    "\n",
    "# Remove \\n in new tweets.\n",
    "edited_new_tweets['tweet'].replace(to_replace=r'\\n', value=' ', regex=True, inplace=True) \n",
    "\n",
    "# Get all date in same format.\n",
    "edited_new_tweets['created_at'] = pd.to_datetime(edited_new_tweets['created_at'], infer_datetime_format=True).dt.tz_convert(None)\n",
    "edited_kaggle_tweets['created_at'] = pd.to_datetime(edited_kaggle_tweets['created_at'],  unit='ms')\n",
    "\n",
    "# Dump to CSV:\n",
    "pd.concat([edited_new_tweets, edited_kaggle_tweets], ignore_index=True, verify_integrity=True)[['id', 'created_at', 'tweet', 'nlikes', 'nreplies', 'nretweets']].to_csv(\"alltweets.csv\")"
   ]
  }
 ],
 "metadata": {
  "interpreter": {
   "hash": "d75bde99e3d9b77c1f89aa25ea3a11748bcc59eab3d17b6dc3c04050b8652ff0"
  },
  "kernelspec": {
   "display_name": "Python 3.8.11 ('ai-env')",
   "language": "python",
   "name": "python3"
  },
  "language_info": {
   "codemirror_mode": {
    "name": "ipython",
    "version": 3
   },
   "file_extension": ".py",
   "mimetype": "text/x-python",
   "name": "python",
   "nbconvert_exporter": "python",
   "pygments_lexer": "ipython3",
   "version": "3.8.11"
  },
  "orig_nbformat": 4
 },
 "nbformat": 4,
 "nbformat_minor": 2
}
